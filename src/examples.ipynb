{
 "metadata": {
  "language_info": {
   "codemirror_mode": {
    "name": "ipython",
    "version": 3
   },
   "file_extension": ".py",
   "mimetype": "text/x-python",
   "name": "python",
   "nbconvert_exporter": "python",
   "pygments_lexer": "ipython3",
   "version": "3.8.5"
  },
  "orig_nbformat": 2,
  "kernelspec": {
   "name": "python3",
   "display_name": "Python 3",
   "language": "python"
  }
 },
 "nbformat": 4,
 "nbformat_minor": 2,
 "cells": [
  {
   "source": [
    "# These are some quick examples"
   ],
   "cell_type": "markdown",
   "metadata": {}
  },
  {
   "cell_type": "code",
   "execution_count": 1,
   "metadata": {},
   "outputs": [],
   "source": [
    "import utils # utility functions that deal with documents\n",
    "import model # everything that has to do with the actual abstractions that do the predictions and labeling\n",
    "import main # abstractions for running predictions on a list of entries"
   ]
  },
  {
   "source": [
    "Any util function that starts with entries takes a list of entries, some additional params and returns either a new list of data based on each entry or returns an object in specific cases. "
   ],
   "cell_type": "markdown",
   "metadata": {}
  },
  {
   "source": [
    "What you'll probably want to do first is load a list of entries from a directory into memory as an object. You can just call:"
   ],
   "cell_type": "markdown",
   "metadata": {}
  },
  {
   "cell_type": "code",
   "execution_count": 2,
   "metadata": {},
   "outputs": [],
   "source": [
    "entries = utils.load_entries(\"./example_entries\")"
   ]
  },
  {
   "source": [
    "In order to extract some informations, such the date and title, I hade to make some assumptions about how the file is formatted. The title is the first h1 header of the file and the date must be in the format:\n",
    "\n",
    "`Date: mmm, dd, yyyy`\n",
    "\n",
    "If your files don't have an h1 title nor a date in the above format, it won't be loaded. If your entries are exported from Notion, they just need a date field and a title and then they should be compatible right away. \n",
    "\n",
    "This is an example of how an entry object looks with a title, date and body field:"
   ],
   "cell_type": "markdown",
   "metadata": {}
  },
  {
   "cell_type": "code",
   "execution_count": 4,
   "metadata": {},
   "outputs": [
    {
     "output_type": "execute_result",
     "data": {
      "text/plain": [
       "{'title': '# Harry S. Truman',\n",
       " 'date': 'Jul 25, 1945',\n",
       " 'body': '# Harry S. Truman\\n\\nDate: Jul 25, 1945\\n\\nWe met at 11:00 AM today. That is, Stalin, Churchill and the U.S. president. But I had a most important session with Lord Mountbatten and General Marshall before that. We have discovered the most terrible bomb in the history of the world. It may be the fire destruction prophesied in the Euphrates Valley era, after Noah and his fabulous ark. Anyway, we think we have found the way to cause a disintegration of the atom. An experiment in the New Mexico desert was startling—to put it mildly. Thirteen pounds of the explosive caused a crater six hundred feet deep and twelve hundred feet in diameter, knocked over a steel tower a half mile away, and knocked men down ten thousand yards away.\\n'}"
      ]
     },
     "metadata": {},
     "execution_count": 4
    }
   ],
   "source": [
    "entries[0]"
   ]
  },
  {
   "source": [
    "Here's the type of thing you can do with your list of entries:"
   ],
   "cell_type": "markdown",
   "metadata": {}
  },
  {
   "cell_type": "code",
   "execution_count": 12,
   "metadata": {},
   "outputs": [
    {
     "output_type": "execute_result",
     "data": {
      "text/plain": [
       "5"
      ]
     },
     "metadata": {},
     "execution_count": 12
    }
   ],
   "source": [
    " # The amount of times a term appears throughout your entries\n",
    "utils.entries_frequency_query(entries, \"I\", exact=True)\n"
   ]
  },
  {
   "cell_type": "code",
   "execution_count": 13,
   "metadata": {},
   "outputs": [
    {
     "output_type": "execute_result",
     "data": {
      "text/plain": [
       "1.0"
      ]
     },
     "metadata": {},
     "execution_count": 13
    }
   ],
   "source": [
    "\n",
    "# The mean word length throughout all entries\n",
    "utils.entries_mean_word_len(entries)"
   ]
  },
  {
   "cell_type": "code",
   "execution_count": 15,
   "metadata": {},
   "outputs": [
    {
     "output_type": "execute_result",
     "data": {
      "text/plain": [
       "' Every day we have been ready to start for our depot 11 miles away, but outside the door of the tent it remains a scene of whirling drift'"
      ]
     },
     "metadata": {},
     "execution_count": 15
    }
   ],
   "source": [
    "# A random sentence from an entry\n",
    "utils.entries_random_sentence(entries)"
   ]
  },
  {
   "source": [
    "Most utility functions are self-explanatory, so what else can you do?"
   ],
   "cell_type": "markdown",
   "metadata": {}
  },
  {
   "cell_type": "code",
   "execution_count": 19,
   "metadata": {},
   "outputs": [
    {
     "output_type": "execute_result",
     "data": {
      "text/plain": [
       "{'admiration': 0.010127497836947441,\n",
       " 'amusement': 0.015452943043783307,\n",
       " 'anger': 0.024440698674879968,\n",
       " 'annoyance': 0.0466189383296296,\n",
       " 'approval': 0.025836593937128782,\n",
       " 'caring': 0.03446401306428015,\n",
       " 'confusion': 0.11233517556684092,\n",
       " 'curiosity': 0.05308716790750623,\n",
       " 'desire': 0.04515145905315876,\n",
       " 'disappointment': 0.1100583880324848,\n",
       " 'disapproval': 0.06231402303092182,\n",
       " 'disgust': 0.025031771743670106,\n",
       " 'embarrassment': 0.03305986640043557,\n",
       " 'excitement': 0.02979819243773818,\n",
       " 'fear': 0.02561720082303509,\n",
       " 'gratitude': 0.009811150142922997,\n",
       " 'grief': 0.023315468803048134,\n",
       " 'joy': 0.008616931096184999,\n",
       " 'love': 0.006634486140683293,\n",
       " 'nervousness': 0.02524488396011293,\n",
       " 'optimism': 0.023303163121454418,\n",
       " 'pride': 0.017336256452836096,\n",
       " 'realization': 0.06515434104949236,\n",
       " 'relief': 0.01812029498978518,\n",
       " 'remorse': 0.03790281270630658,\n",
       " 'sadness': 0.05427336588036269,\n",
       " 'surprise': 0.027322022709995508,\n",
       " 'neutral': 0.029570909217000008}"
      ]
     },
     "metadata": {},
     "execution_count": 19
    }
   ],
   "source": [
    "# Calculate emotions in a given entry\n",
    "main.entry_generate_report(entries[2])"
   ]
  },
  {
   "source": [
    "I think the interesting part is to combine these parts. You can use the utility functions to get the top 5 longest entries and then you can see what the emotions were on these. You could use the `utils.entries_replace_term_by` function in a list of entries and see how the predicted emotions change based on that."
   ],
   "cell_type": "markdown",
   "metadata": {}
  },
  {
   "source": [
    "You can also graph your emotions over time as you can see in the `examples.ipynb` notebook"
   ],
   "cell_type": "markdown",
   "metadata": {}
  }
 ]
}